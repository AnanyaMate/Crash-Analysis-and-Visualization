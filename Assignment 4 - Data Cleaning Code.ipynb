{
 "cells": [
  {
   "cell_type": "markdown",
   "id": "3cd0ab53",
   "metadata": {},
   "source": [
    "# CS 424 - Assignment 3\n",
    "## Group = Player One\n",
    "### Members: Shiladitya Singh Bhati, Divyal Desle, and Ananya Mate"
   ]
  },
  {
   "cell_type": "markdown",
   "id": "fa97a918",
   "metadata": {},
   "source": [
    "#### In this file, we create smaller csv files from the dataset provided"
   ]
  },
  {
   "cell_type": "code",
   "execution_count": 2,
   "id": "373668fb",
   "metadata": {},
   "outputs": [],
   "source": [
    "import pandas as pd"
   ]
  },
  {
   "cell_type": "code",
   "execution_count": 3,
   "id": "151d2794",
   "metadata": {},
   "outputs": [],
   "source": [
    "# Loading the dataset from csv file\n",
    "df_tcv = pd.read_csv('C:/Users/addie/anaconda3/envs/cs424_vega/Traffic_Crashes_Vehicles.csv', engine='python')"
   ]
  },
  {
   "cell_type": "code",
   "execution_count": 4,
   "id": "8299f169",
   "metadata": {},
   "outputs": [],
   "source": [
    "# Filtering Dataset with relevant columns\n",
    "df_tcv_clean = df_tcv.filter(['CRASH_UNIT_ID', 'CRASH_RECORD_ID', 'CRASH_DATE', 'UNIT_NO', 'UNIT_TYPE', 'NUM_PASSENGERS', 'VEHICLE_ID', 'MAKE', 'MODEL', 'LIC_PLATE_STATE', 'VEHICLE_YEAR', 'VEHICLE_DEFECT', 'VEHICLE_TYPE', 'VEHICLE_USE', 'TRAVEL_DIRECTION', 'MANEUVER', 'TOWED_I', 'OCCUPANT_CNT', 'FIRST_CONTACT_POINT'], axis=1)\n",
    "\n",
    "# remove missing values\n",
    "df_tcv_clean.dropna(inplace=True)\n",
    "\n",
    "# convert CRASH_DATE to datetime object\n",
    "df_tcv_clean['CRASH_DATE'] = pd.to_datetime(df_tcv_clean['CRASH_DATE'])\n",
    "\n",
    "# convert data types for relevant columns \n",
    "df_tcv_clean['VEHICLE_YEAR'] = df_tcv_clean['VEHICLE_YEAR'].astype(int)\n",
    "#df_tcv_clean = df_tcv_clean[(df_tcv_clean['VEHICLE_YEAR']) <= 2024 & (df_tcv_clean['VEHICLE_YEAR'] >= 2000)]\n",
    "df_tcv_clean['VEHICLE_ID'] = df_tcv_clean['VEHICLE_ID'].astype(int)\n",
    "df_tcv_clean['NUM_PASSENGERS'] = df_tcv_clean['NUM_PASSENGERS'].astype(int)\n",
    "df_tcv_clean['OCCUPANT_CNT'] = df_tcv_clean['OCCUPANT_CNT'].astype(int)\n",
    "\n",
    "# Sorting the data by date\n",
    "df_tcv_clean = df_tcv_clean.sort_values(by ='CRASH_DATE')"
   ]
  },
  {
   "cell_type": "markdown",
   "id": "899b3d77",
   "metadata": {},
   "source": [
    "### We will create the following CSV for relevant attributes:"
   ]
  },
  {
   "cell_type": "markdown",
   "id": "7041c336",
   "metadata": {},
   "source": [
    "#### Task 2 - Visualization 1"
   ]
  },
  {
   "cell_type": "code",
   "execution_count": 5,
   "id": "64314d60",
   "metadata": {},
   "outputs": [],
   "source": [
    "# Relevant features for Single View Bar Chart\n",
    "vis1 = df_tcv_clean[['VEHICLE_YEAR', 'NUM_PASSENGERS']]\n",
    "\n",
    "# Save to CSV\n",
    "vis1.to_csv('vis1.csv', index=False)"
   ]
  },
  {
   "cell_type": "code",
   "execution_count": 6,
   "id": "c24bf714",
   "metadata": {},
   "outputs": [],
   "source": [
    "# Relevant features for Scatter Plot with Filtering\n",
    "vis2 = df_tcv_clean[['VEHICLE_YEAR', 'NUM_PASSENGERS', 'VEHICLE_TYPE']]\n",
    "\n",
    "# Save to CSV\n",
    "vis2.to_csv('vis2.csv', index=False)"
   ]
  },
  {
   "cell_type": "code",
   "execution_count": 7,
   "id": "4e1fe5bd",
   "metadata": {},
   "outputs": [],
   "source": [
    "# Relevant features for Stacked Bar Chart with Aggregation\n",
    "vis3 = df_tcv_clean[['VEHICLE_YEAR', 'OCCUPANT_CNT', 'VEHICLE_TYPE']]\n",
    "\n",
    "# Save to CSV\n",
    "vis3.to_csv('vis3.csv', index=False)"
   ]
  },
  {
   "cell_type": "code",
   "execution_count": 8,
   "id": "260cb5a0",
   "metadata": {},
   "outputs": [],
   "source": [
    "# Relevant features for Interactive Line Chart with Selection\n",
    "vis4 = df_tcv_clean[['CRASH_DATE', 'VEHICLE_DEFECT']]\n",
    "\n",
    "# Save to CSV\n",
    "vis4.to_csv('vis4.csv', index=False)"
   ]
  },
  {
   "cell_type": "code",
   "execution_count": 9,
   "id": "1a7387ba",
   "metadata": {},
   "outputs": [],
   "source": [
    "vis5 = df_tcv_clean[['VEHICLE_YEAR', 'OCCUPANT_CNT', 'VEHICLE_TYPE']]\n",
    "vis5.to_csv('vis5.csv', index=False)"
   ]
  },
  {
   "cell_type": "code",
   "execution_count": 18,
   "id": "8c6f62ac",
   "metadata": {},
   "outputs": [],
   "source": [
    "vis6 = df_tcv_clean['CRASH_DATE']\n",
    "vis6 = df_tcv_clean.groupby('CRASH_DATE').size().reset_index(name='CRASH_COUNT')\n",
    "vis6 = pd.to_datetime(vis6['CRASH_DATE']).dt.date\n",
    "\n",
    "# Save the DataFrame to a CSV file\n",
    "vis6.to_csv(\"vis6.csv\", index=False)"
   ]
  },
  {
   "cell_type": "code",
   "execution_count": null,
   "id": "66ccf433",
   "metadata": {},
   "outputs": [],
   "source": []
  }
 ],
 "metadata": {
  "kernelspec": {
   "display_name": "Python 3 (ipykernel)",
   "language": "python",
   "name": "python3"
  },
  "language_info": {
   "codemirror_mode": {
    "name": "ipython",
    "version": 3
   },
   "file_extension": ".py",
   "mimetype": "text/x-python",
   "name": "python",
   "nbconvert_exporter": "python",
   "pygments_lexer": "ipython3",
   "version": "3.8.18"
  }
 },
 "nbformat": 4,
 "nbformat_minor": 5
}
